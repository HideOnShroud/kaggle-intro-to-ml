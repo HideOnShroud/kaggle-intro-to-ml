{
 "cells": [
  {
   "cell_type": "markdown",
   "id": "43263100",
   "metadata": {
    "papermill": {
     "duration": 0.008193,
     "end_time": "2024-08-02T17:33:18.199909",
     "exception": false,
     "start_time": "2024-08-02T17:33:18.191716",
     "status": "completed"
    },
    "tags": []
   },
   "source": [
    "**This notebook is an exercise in the [Introduction to Machine Learning](https://www.kaggle.com/learn/intro-to-machine-learning) course.  You can reference the tutorial at [this link](https://www.kaggle.com/dansbecker/your-first-machine-learning-model).**\n",
    "\n",
    "---\n"
   ]
  },
  {
   "cell_type": "markdown",
   "id": "f4f100a6",
   "metadata": {
    "papermill": {
     "duration": 0.007147,
     "end_time": "2024-08-02T17:33:18.214977",
     "exception": false,
     "start_time": "2024-08-02T17:33:18.207830",
     "status": "completed"
    },
    "tags": []
   },
   "source": [
    "## Recap\n",
    "So far, you have loaded your data and reviewed it with the following code. Run this cell to set up your coding environment where the previous step left off."
   ]
  },
  {
   "cell_type": "code",
   "execution_count": 1,
   "id": "c651a3d6",
   "metadata": {
    "execution": {
     "iopub.execute_input": "2024-08-02T17:33:18.231807Z",
     "iopub.status.busy": "2024-08-02T17:33:18.231385Z",
     "iopub.status.idle": "2024-08-02T17:33:20.970709Z",
     "shell.execute_reply": "2024-08-02T17:33:20.969362Z"
    },
    "papermill": {
     "duration": 2.750911,
     "end_time": "2024-08-02T17:33:20.973435",
     "exception": false,
     "start_time": "2024-08-02T17:33:18.222524",
     "status": "completed"
    },
    "tags": []
   },
   "outputs": [
    {
     "name": "stdout",
     "output_type": "stream",
     "text": [
      "Setup Complete\n"
     ]
    }
   ],
   "source": [
    "# Code you have previously used to load data\n",
    "import pandas as pd\n",
    "\n",
    "# Path of the file to read\n",
    "iowa_file_path = '../input/home-data-for-ml-course/train.csv'\n",
    "\n",
    "home_data = pd.read_csv(iowa_file_path)\n",
    "\n",
    "# Set up code checking\n",
    "from learntools.core import binder\n",
    "binder.bind(globals())\n",
    "from learntools.machine_learning.ex3 import *\n",
    "\n",
    "print(\"Setup Complete\")"
   ]
  },
  {
   "cell_type": "markdown",
   "id": "c2f27f24",
   "metadata": {
    "papermill": {
     "duration": 0.007036,
     "end_time": "2024-08-02T17:33:20.987827",
     "exception": false,
     "start_time": "2024-08-02T17:33:20.980791",
     "status": "completed"
    },
    "tags": []
   },
   "source": [
    "# Exercises\n",
    "\n",
    "## Step 1: Specify Prediction Target\n",
    "Select the target variable, which corresponds to the sales price. Save this to a new variable called `y`. You'll need to print a list of the columns to find the name of the column you need.\n"
   ]
  },
  {
   "cell_type": "code",
   "execution_count": 2,
   "id": "30b1f8d7",
   "metadata": {
    "execution": {
     "iopub.execute_input": "2024-08-02T17:33:21.005190Z",
     "iopub.status.busy": "2024-08-02T17:33:21.004647Z",
     "iopub.status.idle": "2024-08-02T17:33:21.017307Z",
     "shell.execute_reply": "2024-08-02T17:33:21.016079Z"
    },
    "papermill": {
     "duration": 0.024993,
     "end_time": "2024-08-02T17:33:21.020033",
     "exception": false,
     "start_time": "2024-08-02T17:33:20.995040",
     "status": "completed"
    },
    "tags": []
   },
   "outputs": [
    {
     "data": {
      "text/plain": [
       "Index(['Id', 'MSSubClass', 'MSZoning', 'LotFrontage', 'LotArea', 'Street',\n",
       "       'Alley', 'LotShape', 'LandContour', 'Utilities', 'LotConfig',\n",
       "       'LandSlope', 'Neighborhood', 'Condition1', 'Condition2', 'BldgType',\n",
       "       'HouseStyle', 'OverallQual', 'OverallCond', 'YearBuilt', 'YearRemodAdd',\n",
       "       'RoofStyle', 'RoofMatl', 'Exterior1st', 'Exterior2nd', 'MasVnrType',\n",
       "       'MasVnrArea', 'ExterQual', 'ExterCond', 'Foundation', 'BsmtQual',\n",
       "       'BsmtCond', 'BsmtExposure', 'BsmtFinType1', 'BsmtFinSF1',\n",
       "       'BsmtFinType2', 'BsmtFinSF2', 'BsmtUnfSF', 'TotalBsmtSF', 'Heating',\n",
       "       'HeatingQC', 'CentralAir', 'Electrical', '1stFlrSF', '2ndFlrSF',\n",
       "       'LowQualFinSF', 'GrLivArea', 'BsmtFullBath', 'BsmtHalfBath', 'FullBath',\n",
       "       'HalfBath', 'BedroomAbvGr', 'KitchenAbvGr', 'KitchenQual',\n",
       "       'TotRmsAbvGrd', 'Functional', 'Fireplaces', 'FireplaceQu', 'GarageType',\n",
       "       'GarageYrBlt', 'GarageFinish', 'GarageCars', 'GarageArea', 'GarageQual',\n",
       "       'GarageCond', 'PavedDrive', 'WoodDeckSF', 'OpenPorchSF',\n",
       "       'EnclosedPorch', '3SsnPorch', 'ScreenPorch', 'PoolArea', 'PoolQC',\n",
       "       'Fence', 'MiscFeature', 'MiscVal', 'MoSold', 'YrSold', 'SaleType',\n",
       "       'SaleCondition', 'SalePrice'],\n",
       "      dtype='object')"
      ]
     },
     "execution_count": 2,
     "metadata": {},
     "output_type": "execute_result"
    }
   ],
   "source": [
    "# print the list of columns in the dataset to find the name of the prediction target\n",
    "home_data.columns"
   ]
  },
  {
   "cell_type": "code",
   "execution_count": 3,
   "id": "37d89e4b",
   "metadata": {
    "execution": {
     "iopub.execute_input": "2024-08-02T17:33:21.039265Z",
     "iopub.status.busy": "2024-08-02T17:33:21.037879Z",
     "iopub.status.idle": "2024-08-02T17:33:21.058127Z",
     "shell.execute_reply": "2024-08-02T17:33:21.056648Z"
    },
    "papermill": {
     "duration": 0.032906,
     "end_time": "2024-08-02T17:33:21.060965",
     "exception": false,
     "start_time": "2024-08-02T17:33:21.028059",
     "status": "completed"
    },
    "tags": []
   },
   "outputs": [
    {
     "data": {
      "application/javascript": [
       "parent.postMessage({\"jupyterEvent\": \"custom.exercise_interaction\", \"data\": {\"outcomeType\": 1, \"valueTowardsCompletion\": 0.25, \"interactionType\": 1, \"questionType\": 2, \"questionId\": \"1_SetTarget\", \"learnToolsVersion\": \"0.3.4\", \"failureMessage\": \"\", \"exceptionClass\": \"\", \"trace\": \"\"}}, \"*\")"
      ],
      "text/plain": [
       "<IPython.core.display.Javascript object>"
      ]
     },
     "metadata": {},
     "output_type": "display_data"
    },
    {
     "data": {
      "text/markdown": [
       "<span style=\"color:#33cc33\">Correct</span>"
      ],
      "text/plain": [
       "Correct"
      ]
     },
     "metadata": {},
     "output_type": "display_data"
    }
   ],
   "source": [
    "y = home_data.SalePrice\n",
    "\n",
    "# Check your answer\n",
    "step_1.check()"
   ]
  },
  {
   "cell_type": "code",
   "execution_count": 4,
   "id": "9109e5a8",
   "metadata": {
    "execution": {
     "iopub.execute_input": "2024-08-02T17:33:21.078871Z",
     "iopub.status.busy": "2024-08-02T17:33:21.078367Z",
     "iopub.status.idle": "2024-08-02T17:33:21.084089Z",
     "shell.execute_reply": "2024-08-02T17:33:21.082692Z"
    },
    "papermill": {
     "duration": 0.018391,
     "end_time": "2024-08-02T17:33:21.087233",
     "exception": false,
     "start_time": "2024-08-02T17:33:21.068842",
     "status": "completed"
    },
    "tags": []
   },
   "outputs": [],
   "source": [
    "# The lines below will show you a hint or the solution.\n",
    "# step_1.hint() \n",
    "# step_1.solution()"
   ]
  },
  {
   "cell_type": "markdown",
   "id": "1e143e53",
   "metadata": {
    "papermill": {
     "duration": 0.007817,
     "end_time": "2024-08-02T17:33:21.103820",
     "exception": false,
     "start_time": "2024-08-02T17:33:21.096003",
     "status": "completed"
    },
    "tags": []
   },
   "source": [
    "## Step 2: Create X\n",
    "Now you will create a DataFrame called `X` holding the predictive features.\n",
    "\n",
    "Since you want only some columns from the original data, you'll first create a list with the names of the columns you want in `X`.\n",
    "\n",
    "You'll use just the following columns in the list (you can copy and paste the whole list to save some typing, though you'll still need to add quotes):\n",
    "  * LotArea\n",
    "  * YearBuilt\n",
    "  * 1stFlrSF\n",
    "  * 2ndFlrSF\n",
    "  * FullBath\n",
    "  * BedroomAbvGr\n",
    "  * TotRmsAbvGrd\n",
    "\n",
    "After you've created that list of features, use it to create the DataFrame that you'll use to fit the model."
   ]
  },
  {
   "cell_type": "code",
   "execution_count": 5,
   "id": "a6c5e926",
   "metadata": {
    "execution": {
     "iopub.execute_input": "2024-08-02T17:33:21.122734Z",
     "iopub.status.busy": "2024-08-02T17:33:21.122219Z",
     "iopub.status.idle": "2024-08-02T17:33:21.138044Z",
     "shell.execute_reply": "2024-08-02T17:33:21.136804Z"
    },
    "papermill": {
     "duration": 0.028371,
     "end_time": "2024-08-02T17:33:21.140624",
     "exception": false,
     "start_time": "2024-08-02T17:33:21.112253",
     "status": "completed"
    },
    "tags": []
   },
   "outputs": [
    {
     "data": {
      "application/javascript": [
       "parent.postMessage({\"jupyterEvent\": \"custom.exercise_interaction\", \"data\": {\"outcomeType\": 1, \"valueTowardsCompletion\": 0.25, \"interactionType\": 1, \"questionType\": 2, \"questionId\": \"2_SelectPredictionData\", \"learnToolsVersion\": \"0.3.4\", \"failureMessage\": \"\", \"exceptionClass\": \"\", \"trace\": \"\"}}, \"*\")"
      ],
      "text/plain": [
       "<IPython.core.display.Javascript object>"
      ]
     },
     "metadata": {},
     "output_type": "display_data"
    },
    {
     "data": {
      "text/markdown": [
       "<span style=\"color:#33cc33\">Correct</span>"
      ],
      "text/plain": [
       "Correct"
      ]
     },
     "metadata": {},
     "output_type": "display_data"
    }
   ],
   "source": [
    "# Create the list of features below\n",
    "feature_names = ['LotArea',\n",
    "'YearBuilt',\n",
    "'1stFlrSF',\n",
    "'2ndFlrSF',\n",
    "'FullBath',\n",
    "'BedroomAbvGr',\n",
    "'TotRmsAbvGrd']\n",
    "\n",
    "# Select data corresponding to features in feature_names\n",
    "X = home_data[feature_names]\n",
    "\n",
    "# Check your answer\n",
    "step_2.check()"
   ]
  },
  {
   "cell_type": "code",
   "execution_count": 6,
   "id": "0aaf19c5",
   "metadata": {
    "execution": {
     "iopub.execute_input": "2024-08-02T17:33:21.161296Z",
     "iopub.status.busy": "2024-08-02T17:33:21.160278Z",
     "iopub.status.idle": "2024-08-02T17:33:21.165933Z",
     "shell.execute_reply": "2024-08-02T17:33:21.164514Z"
    },
    "papermill": {
     "duration": 0.01981,
     "end_time": "2024-08-02T17:33:21.168535",
     "exception": false,
     "start_time": "2024-08-02T17:33:21.148725",
     "status": "completed"
    },
    "tags": []
   },
   "outputs": [],
   "source": [
    "# step_2.hint()\n",
    "# step_2.solution()"
   ]
  },
  {
   "cell_type": "markdown",
   "id": "05fbb196",
   "metadata": {
    "papermill": {
     "duration": 0.008261,
     "end_time": "2024-08-02T17:33:21.185484",
     "exception": false,
     "start_time": "2024-08-02T17:33:21.177223",
     "status": "completed"
    },
    "tags": []
   },
   "source": [
    "## Review Data\n",
    "Before building a model, take a quick look at **X** to verify it looks sensible"
   ]
  },
  {
   "cell_type": "code",
   "execution_count": 7,
   "id": "3407ae89",
   "metadata": {
    "execution": {
     "iopub.execute_input": "2024-08-02T17:33:21.205598Z",
     "iopub.status.busy": "2024-08-02T17:33:21.204229Z",
     "iopub.status.idle": "2024-08-02T17:33:21.329148Z",
     "shell.execute_reply": "2024-08-02T17:33:21.327586Z"
    },
    "papermill": {
     "duration": 0.1385,
     "end_time": "2024-08-02T17:33:21.332506",
     "exception": false,
     "start_time": "2024-08-02T17:33:21.194006",
     "status": "completed"
    },
    "tags": []
   },
   "outputs": [
    {
     "name": "stdout",
     "output_type": "stream",
     "text": [
      "             LotArea    YearBuilt     1stFlrSF     2ndFlrSF     FullBath  \\\n",
      "count    1460.000000  1460.000000  1460.000000  1460.000000  1460.000000   \n",
      "mean    10516.828082  1971.267808  1162.626712   346.992466     1.565068   \n",
      "std      9981.264932    30.202904   386.587738   436.528436     0.550916   \n",
      "min      1300.000000  1872.000000   334.000000     0.000000     0.000000   \n",
      "25%      7553.500000  1954.000000   882.000000     0.000000     1.000000   \n",
      "50%      9478.500000  1973.000000  1087.000000     0.000000     2.000000   \n",
      "75%     11601.500000  2000.000000  1391.250000   728.000000     2.000000   \n",
      "max    215245.000000  2010.000000  4692.000000  2065.000000     3.000000   \n",
      "\n",
      "       BedroomAbvGr  TotRmsAbvGrd  \n",
      "count   1460.000000   1460.000000  \n",
      "mean       2.866438      6.517808  \n",
      "std        0.815778      1.625393  \n",
      "min        0.000000      2.000000  \n",
      "25%        2.000000      5.000000  \n",
      "50%        3.000000      6.000000  \n",
      "75%        3.000000      7.000000  \n",
      "max        8.000000     14.000000  \n",
      "   LotArea  YearBuilt  1stFlrSF  2ndFlrSF  FullBath  BedroomAbvGr  \\\n",
      "0     8450       2003       856       854         2             3   \n",
      "1     9600       1976      1262         0         2             3   \n",
      "2    11250       2001       920       866         2             3   \n",
      "3     9550       1915       961       756         1             3   \n",
      "4    14260       2000      1145      1053         2             4   \n",
      "\n",
      "   TotRmsAbvGrd  \n",
      "0             8  \n",
      "1             6  \n",
      "2             6  \n",
      "3             7  \n",
      "4             9  \n"
     ]
    }
   ],
   "source": [
    "# Review data\n",
    "# print description or statistics from X\n",
    "print(X.describe())\n",
    "\n",
    "# print the top few lines\n",
    "print(X.head())"
   ]
  },
  {
   "cell_type": "markdown",
   "id": "7c911f8e",
   "metadata": {
    "papermill": {
     "duration": 0.00824,
     "end_time": "2024-08-02T17:33:21.349153",
     "exception": false,
     "start_time": "2024-08-02T17:33:21.340913",
     "status": "completed"
    },
    "tags": []
   },
   "source": [
    "## Step 3: Specify and Fit Model\n",
    "Create a `DecisionTreeRegressor` and save it iowa_model. Ensure you've done the relevant import from sklearn to run this command.\n",
    "\n",
    "Then fit the model you just created using the data in `X` and `y` that you saved above."
   ]
  },
  {
   "cell_type": "code",
   "execution_count": 8,
   "id": "3fb35b89",
   "metadata": {
    "execution": {
     "iopub.execute_input": "2024-08-02T17:33:21.369372Z",
     "iopub.status.busy": "2024-08-02T17:33:21.368255Z",
     "iopub.status.idle": "2024-08-02T17:33:21.391780Z",
     "shell.execute_reply": "2024-08-02T17:33:21.390195Z"
    },
    "papermill": {
     "duration": 0.03673,
     "end_time": "2024-08-02T17:33:21.394549",
     "exception": false,
     "start_time": "2024-08-02T17:33:21.357819",
     "status": "completed"
    },
    "tags": []
   },
   "outputs": [
    {
     "data": {
      "application/javascript": [
       "parent.postMessage({\"jupyterEvent\": \"custom.exercise_interaction\", \"data\": {\"outcomeType\": 1, \"valueTowardsCompletion\": 0.25, \"interactionType\": 1, \"questionType\": 2, \"questionId\": \"3_CreateModel\", \"learnToolsVersion\": \"0.3.4\", \"failureMessage\": \"\", \"exceptionClass\": \"\", \"trace\": \"\"}}, \"*\")"
      ],
      "text/plain": [
       "<IPython.core.display.Javascript object>"
      ]
     },
     "metadata": {},
     "output_type": "display_data"
    },
    {
     "data": {
      "text/markdown": [
       "<span style=\"color:#33cc33\">Correct</span>"
      ],
      "text/plain": [
       "Correct"
      ]
     },
     "metadata": {},
     "output_type": "display_data"
    }
   ],
   "source": [
    "# from _ import _\n",
    "#specify the model. \n",
    "#For model reproducibility, set a numeric value for random_state when specifying the model\n",
    "from sklearn.tree import DecisionTreeRegressor\n",
    "iowa_model = DecisionTreeRegressor(random_state=1)\n",
    "\n",
    "# Fit the model\n",
    "iowa_model.fit(X,y)\n",
    "\n",
    "# Check your answer\n",
    "step_3.check()"
   ]
  },
  {
   "cell_type": "code",
   "execution_count": 9,
   "id": "eaf226d9",
   "metadata": {
    "execution": {
     "iopub.execute_input": "2024-08-02T17:33:21.414605Z",
     "iopub.status.busy": "2024-08-02T17:33:21.414135Z",
     "iopub.status.idle": "2024-08-02T17:33:21.420119Z",
     "shell.execute_reply": "2024-08-02T17:33:21.418605Z"
    },
    "papermill": {
     "duration": 0.019142,
     "end_time": "2024-08-02T17:33:21.423204",
     "exception": false,
     "start_time": "2024-08-02T17:33:21.404062",
     "status": "completed"
    },
    "tags": []
   },
   "outputs": [],
   "source": [
    "# step_3.hint()\n",
    "# step_3.solution()"
   ]
  },
  {
   "cell_type": "markdown",
   "id": "73d217bd",
   "metadata": {
    "papermill": {
     "duration": 0.00877,
     "end_time": "2024-08-02T17:33:21.441047",
     "exception": false,
     "start_time": "2024-08-02T17:33:21.432277",
     "status": "completed"
    },
    "tags": []
   },
   "source": [
    "## Step 4: Make Predictions\n",
    "Make predictions with the model's `predict` command using `X` as the data. Save the results to a variable called `predictions`."
   ]
  },
  {
   "cell_type": "code",
   "execution_count": 10,
   "id": "91e5b393",
   "metadata": {
    "execution": {
     "iopub.execute_input": "2024-08-02T17:33:21.461486Z",
     "iopub.status.busy": "2024-08-02T17:33:21.460216Z",
     "iopub.status.idle": "2024-08-02T17:33:21.476991Z",
     "shell.execute_reply": "2024-08-02T17:33:21.475673Z"
    },
    "papermill": {
     "duration": 0.029781,
     "end_time": "2024-08-02T17:33:21.479680",
     "exception": false,
     "start_time": "2024-08-02T17:33:21.449899",
     "status": "completed"
    },
    "tags": []
   },
   "outputs": [
    {
     "name": "stdout",
     "output_type": "stream",
     "text": [
      "[208500. 181500. 223500. ... 266500. 142125. 147500.]\n"
     ]
    },
    {
     "data": {
      "application/javascript": [
       "parent.postMessage({\"jupyterEvent\": \"custom.exercise_interaction\", \"data\": {\"outcomeType\": 1, \"valueTowardsCompletion\": 0.25, \"interactionType\": 1, \"questionType\": 2, \"questionId\": \"4_MakePredictions\", \"learnToolsVersion\": \"0.3.4\", \"failureMessage\": \"\", \"exceptionClass\": \"\", \"trace\": \"\"}}, \"*\")"
      ],
      "text/plain": [
       "<IPython.core.display.Javascript object>"
      ]
     },
     "metadata": {},
     "output_type": "display_data"
    },
    {
     "data": {
      "text/markdown": [
       "<span style=\"color:#33cc33\">Correct</span>"
      ],
      "text/plain": [
       "Correct"
      ]
     },
     "metadata": {},
     "output_type": "display_data"
    }
   ],
   "source": [
    "predictions = iowa_model.predict(X)\n",
    "print(predictions)\n",
    "\n",
    "# Check your answer\n",
    "step_4.check()"
   ]
  },
  {
   "cell_type": "code",
   "execution_count": 11,
   "id": "68ff8fcd",
   "metadata": {
    "execution": {
     "iopub.execute_input": "2024-08-02T17:33:21.501503Z",
     "iopub.status.busy": "2024-08-02T17:33:21.500170Z",
     "iopub.status.idle": "2024-08-02T17:33:21.506016Z",
     "shell.execute_reply": "2024-08-02T17:33:21.504490Z"
    },
    "papermill": {
     "duration": 0.020088,
     "end_time": "2024-08-02T17:33:21.508959",
     "exception": false,
     "start_time": "2024-08-02T17:33:21.488871",
     "status": "completed"
    },
    "tags": []
   },
   "outputs": [],
   "source": [
    "# step_4.hint()\n",
    "# step_4.solution()"
   ]
  },
  {
   "cell_type": "markdown",
   "id": "2cb92f02",
   "metadata": {
    "papermill": {
     "duration": 0.009347,
     "end_time": "2024-08-02T17:33:21.527565",
     "exception": false,
     "start_time": "2024-08-02T17:33:21.518218",
     "status": "completed"
    },
    "tags": []
   },
   "source": [
    "## Think About Your Results\n",
    "\n",
    "Use the `head` method to compare the top few predictions to the actual home values (in `y`) for those same homes. Anything surprising?\n"
   ]
  },
  {
   "cell_type": "code",
   "execution_count": 12,
   "id": "bbcfedc4",
   "metadata": {
    "execution": {
     "iopub.execute_input": "2024-08-02T17:33:21.547868Z",
     "iopub.status.busy": "2024-08-02T17:33:21.547405Z",
     "iopub.status.idle": "2024-08-02T17:33:21.557599Z",
     "shell.execute_reply": "2024-08-02T17:33:21.556144Z"
    },
    "papermill": {
     "duration": 0.024016,
     "end_time": "2024-08-02T17:33:21.560683",
     "exception": false,
     "start_time": "2024-08-02T17:33:21.536667",
     "status": "completed"
    },
    "tags": []
   },
   "outputs": [
    {
     "name": "stdout",
     "output_type": "stream",
     "text": [
      "prediction: 208500.0, actual: 208500\n",
      "prediction: 181500.0, actual: 181500\n",
      "prediction: 223500.0, actual: 223500\n",
      "prediction: 140000.0, actual: 140000\n",
      "prediction: 250000.0, actual: 250000\n"
     ]
    }
   ],
   "source": [
    "# You can write code in this cell\n",
    "sample_prediction = iowa_model.predict(X.head())\n",
    "for i, j in enumerate(sample_prediction):\n",
    "    print(f'prediction: {j}, actual: {y[i]}')"
   ]
  },
  {
   "cell_type": "markdown",
   "id": "329e0350",
   "metadata": {
    "papermill": {
     "duration": 0.009142,
     "end_time": "2024-08-02T17:33:21.579211",
     "exception": false,
     "start_time": "2024-08-02T17:33:21.570069",
     "status": "completed"
    },
    "tags": []
   },
   "source": [
    "It's natural to ask how accurate the model's predictions will be and how you can improve that. That will be you're next step.\n",
    "\n",
    "# Keep Going\n",
    "\n",
    "You are ready for **[Model Validation](https://www.kaggle.com/dansbecker/model-validation).**\n"
   ]
  },
  {
   "cell_type": "markdown",
   "id": "e16ca3da",
   "metadata": {
    "papermill": {
     "duration": 0.009207,
     "end_time": "2024-08-02T17:33:21.598037",
     "exception": false,
     "start_time": "2024-08-02T17:33:21.588830",
     "status": "completed"
    },
    "tags": []
   },
   "source": [
    "---\n",
    "\n",
    "\n",
    "\n",
    "\n",
    "*Have questions or comments? Visit the [course discussion forum](https://www.kaggle.com/learn/intro-to-machine-learning/discussion) to chat with other learners.*"
   ]
  }
 ],
 "metadata": {
  "kaggle": {
   "accelerator": "none",
   "dataSources": [
    {
     "databundleVersionId": 111096,
     "sourceId": 10211,
     "sourceType": "competition"
    },
    {
     "datasetId": 11167,
     "sourceId": 15520,
     "sourceType": "datasetVersion"
    },
    {
     "datasetId": 2709,
     "sourceId": 38454,
     "sourceType": "datasetVersion"
    }
   ],
   "isGpuEnabled": false,
   "isInternetEnabled": false,
   "language": "python",
   "sourceType": "notebook"
  },
  "kernelspec": {
   "display_name": "Python 3",
   "language": "python",
   "name": "python3"
  },
  "language_info": {
   "codemirror_mode": {
    "name": "ipython",
    "version": 3
   },
   "file_extension": ".py",
   "mimetype": "text/x-python",
   "name": "python",
   "nbconvert_exporter": "python",
   "pygments_lexer": "ipython3",
   "version": "3.10.13"
  },
  "papermill": {
   "default_parameters": {},
   "duration": 7.442218,
   "end_time": "2024-08-02T17:33:22.331565",
   "environment_variables": {},
   "exception": null,
   "input_path": "__notebook__.ipynb",
   "output_path": "__notebook__.ipynb",
   "parameters": {},
   "start_time": "2024-08-02T17:33:14.889347",
   "version": "2.5.0"
  }
 },
 "nbformat": 4,
 "nbformat_minor": 5
}
